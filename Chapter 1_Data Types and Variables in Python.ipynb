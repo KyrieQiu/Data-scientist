{
 "cells": [
  {
   "cell_type": "markdown",
   "id": "c3eab6a6",
   "metadata": {},
   "source": [
    "## Chapter 1: Data Types and Variables in Python\n",
    "\n",
    "Python is a popular programming language for data science, known for its simplicity and ease of use. One of the key concepts in Python programming is data types and variables.\n",
    "\n",
    "In Python, data types refer to the type of value that a variable can hold. Some of the common data types in Python include integers, floating-point numbers, strings, and Booleans. Here's an example code that shows how to assign values to variables with different data types:"
   ]
  },
  {
   "cell_type": "code",
   "execution_count": 2,
   "id": "723fbd35",
   "metadata": {},
   "outputs": [],
   "source": [
    "# Assigning integer value to a variable\n",
    "age = 25\n",
    "\n",
    "# Assigning floating-point value to a variable\n",
    "height = 1.75\n",
    "\n",
    "# Assigning string value to a variable\n",
    "name = \"John\"\n",
    "\n",
    "# Assigning Boolean value to a variable\n",
    "is_student = True"
   ]
  },
  {
   "cell_type": "markdown",
   "id": "71ae6549",
   "metadata": {},
   "source": [
    "In the above code, we've assigned integer value 25 to a variable age, floating-point value 1.75 to a variable height, string value \"John\" to a variable name, and Boolean value True to a variable 'is_student'.\n",
    "\n",
    "We can also check the data type of a variable using the 'type()' function. Here's an example code that shows how to check the data type of the variables we've created:"
   ]
  },
  {
   "cell_type": "code",
   "execution_count": 3,
   "id": "0cb081cd",
   "metadata": {},
   "outputs": [
    {
     "name": "stdout",
     "output_type": "stream",
     "text": [
      "<class 'int'>\n",
      "<class 'float'>\n",
      "<class 'str'>\n",
      "<class 'bool'>\n"
     ]
    }
   ],
   "source": [
    "print(type(age))         # Output: <class 'int'>\n",
    "print(type(height))      # Output: <class 'float'>\n",
    "print(type(name))        # Output: <class 'str'>\n",
    "print(type(is_student))  # Output: <class 'bool'>"
   ]
  },
  {
   "cell_type": "markdown",
   "id": "ada02e2d",
   "metadata": {},
   "source": [
    "In the above code, we've used the 'type()' function to check the data type of the variables age, height, name, and 'is_student'.\n",
    "\n",
    "Understanding data types and variables is crucial in Python programming, as it enables us to manipulate data in meaningful ways. In the upcoming chapters, we will explore more advanced concepts in Python programming for data science."
   ]
  }
 ],
 "metadata": {
  "kernelspec": {
   "display_name": "Python 3 (ipykernel)",
   "language": "python",
   "name": "python3"
  },
  "language_info": {
   "codemirror_mode": {
    "name": "ipython",
    "version": 3
   },
   "file_extension": ".py",
   "mimetype": "text/x-python",
   "name": "python",
   "nbconvert_exporter": "python",
   "pygments_lexer": "ipython3",
   "version": "3.9.7"
  }
 },
 "nbformat": 4,
 "nbformat_minor": 5
}
